{
 "cells": [
  {
   "attachments": {},
   "cell_type": "markdown",
   "metadata": {},
   "source": [
    "# P4 Backpropagation tests"
   ]
  },
  {
   "attachments": {},
   "cell_type": "markdown",
   "metadata": {},
   "source": [
    "Imports needed for the notebook"
   ]
  },
  {
   "cell_type": "code",
   "execution_count": 1,
   "metadata": {},
   "outputs": [],
   "source": [
    "from Neuron.Neuron import Neuron\n",
    "from Neuron.NeuronLayer import NeuronLayer\n",
    "from Neuron.NeuronNetwerk import NeuronNetwerk\n",
    "\n",
    "from Neuron.neuronTests import test_neuron_network_results\n",
    "\n",
    "import pandas"
   ]
  },
  {
   "attachments": {},
   "cell_type": "markdown",
   "metadata": {},
   "source": [
    "## Test for the AND-gate"
   ]
  },
  {
   "cell_type": "code",
   "execution_count": 2,
   "metadata": {},
   "outputs": [
    {
     "name": "stdout",
     "output_type": "stream",
     "text": [
      "Het resultaat van de gate is: True\n",
      "Netwerk(layers=Layer(neurons=Neuron(weights=[5.492847449452622, 5.496464793827719], bias=-8.338072924924216)))\n"
     ]
    },
    {
     "data": {
      "text/html": [
       "<div>\n",
       "<style scoped>\n",
       "    .dataframe tbody tr th:only-of-type {\n",
       "        vertical-align: middle;\n",
       "    }\n",
       "\n",
       "    .dataframe tbody tr th {\n",
       "        vertical-align: top;\n",
       "    }\n",
       "\n",
       "    .dataframe thead th {\n",
       "        text-align: right;\n",
       "    }\n",
       "</style>\n",
       "<table border=\"1\" class=\"dataframe\">\n",
       "  <thead>\n",
       "    <tr style=\"text-align: right;\">\n",
       "      <th></th>\n",
       "      <th>X1</th>\n",
       "      <th>X2</th>\n",
       "      <th>Result</th>\n",
       "      <th>Test</th>\n",
       "    </tr>\n",
       "  </thead>\n",
       "  <tbody>\n",
       "    <tr>\n",
       "      <th>0</th>\n",
       "      <td>0</td>\n",
       "      <td>0</td>\n",
       "      <td>[0.00023917570010658685]</td>\n",
       "      <td>True</td>\n",
       "    </tr>\n",
       "    <tr>\n",
       "      <th>1</th>\n",
       "      <td>1</td>\n",
       "      <td>0</td>\n",
       "      <td>[0.05492864384843537]</td>\n",
       "      <td>True</td>\n",
       "    </tr>\n",
       "    <tr>\n",
       "      <th>2</th>\n",
       "      <td>0</td>\n",
       "      <td>1</td>\n",
       "      <td>[0.0551167281835556]</td>\n",
       "      <td>True</td>\n",
       "    </tr>\n",
       "    <tr>\n",
       "      <th>3</th>\n",
       "      <td>1</td>\n",
       "      <td>1</td>\n",
       "      <td>[0.9340873341532527]</td>\n",
       "      <td>True</td>\n",
       "    </tr>\n",
       "  </tbody>\n",
       "</table>\n",
       "</div>"
      ],
      "text/plain": [
       "   X1  X2                    Result  Test\n",
       "0   0   0  [0.00023917570010658685]  True\n",
       "1   1   0     [0.05492864384843537]  True\n",
       "2   0   1      [0.0551167281835556]  True\n",
       "3   1   1      [0.9340873341532527]  True"
      ]
     },
     "execution_count": 2,
     "metadata": {},
     "output_type": "execute_result"
    }
   ],
   "source": [
    "and_back_propagation = Neuron([-0.5, 0.5], 1.5, \"And gate\")\n",
    "\n",
    "and_back_layer = NeuronLayer([and_back_propagation])\n",
    "\n",
    "and_back_network = NeuronNetwerk([and_back_layer])\n",
    "and_back_network.train([[1, 1], [1, 0], [0, 1], [0, 0]], [[1], [0], [0], [0]], 1, 1000)\n",
    "# and_back_network.train([[0, 0]], [[0]], 1, 1)\n",
    "and_back_results = pandas.DataFrame(\n",
    "    [\n",
    "        [0, 0, and_back_network.get_feed_forward_results([0, 0]), test_neuron_network_results(and_back_network, [0, 0], [0])],\n",
    "        [1, 0, and_back_network.get_feed_forward_results([1, 0]), test_neuron_network_results(and_back_network, [1, 0], [0])],\n",
    "        [0, 1, and_back_network.get_feed_forward_results([0, 1]), test_neuron_network_results(and_back_network, [0, 1], [0])],\n",
    "        [1, 1, and_back_network.get_feed_forward_results([1, 1]), test_neuron_network_results(and_back_network, [1, 1], [1])],\n",
    "    ],\n",
    "    columns = ['X1', 'X2', 'Result', 'Test']\n",
    ")\n",
    "print(f\"Het resultaat van de gate is: {(and_back_results['Test'] == True).all()}\")\n",
    "print(and_back_network)\n",
    "and_back_results"
   ]
  },
  {
   "attachments": {},
   "cell_type": "markdown",
   "metadata": {},
   "source": [
    "## Test for the XOR-gate"
   ]
  },
  {
   "cell_type": "code",
   "execution_count": 3,
   "metadata": {},
   "outputs": [
    {
     "name": "stdout",
     "output_type": "stream",
     "text": [
      "Netwerk(layers=Layer(neurons=Neuron(weights=[5.672006879291299, -5.523077232563653], bias=-3.6203723909631207), Neuron(weights=[3.792559774722619, -3.4836079932519084], bias=1.486557708544871)),\n",
      "\tLayer(neurons=Neuron(weights=[5.901686655673089, -5.13162902714908], bias=2.153212254219473)))\n",
      "Het resultaat van de gate is: True\n"
     ]
    },
    {
     "data": {
      "text/html": [
       "<div>\n",
       "<style scoped>\n",
       "    .dataframe tbody tr th:only-of-type {\n",
       "        vertical-align: middle;\n",
       "    }\n",
       "\n",
       "    .dataframe tbody tr th {\n",
       "        vertical-align: top;\n",
       "    }\n",
       "\n",
       "    .dataframe thead th {\n",
       "        text-align: right;\n",
       "    }\n",
       "</style>\n",
       "<table border=\"1\" class=\"dataframe\">\n",
       "  <thead>\n",
       "    <tr style=\"text-align: right;\">\n",
       "      <th></th>\n",
       "      <th>X1</th>\n",
       "      <th>X2</th>\n",
       "      <th>Result</th>\n",
       "      <th>Test</th>\n",
       "    </tr>\n",
       "  </thead>\n",
       "  <tbody>\n",
       "    <tr>\n",
       "      <th>0</th>\n",
       "      <td>0</td>\n",
       "      <td>0</td>\n",
       "      <td>[0.13261183719358358]</td>\n",
       "      <td>True</td>\n",
       "    </tr>\n",
       "    <tr>\n",
       "      <th>1</th>\n",
       "      <td>1</td>\n",
       "      <td>0</td>\n",
       "      <td>[0.9069681521385837]</td>\n",
       "      <td>True</td>\n",
       "    </tr>\n",
       "    <tr>\n",
       "      <th>2</th>\n",
       "      <td>0</td>\n",
       "      <td>1</td>\n",
       "      <td>[0.8235442216115195]</td>\n",
       "      <td>True</td>\n",
       "    </tr>\n",
       "    <tr>\n",
       "      <th>3</th>\n",
       "      <td>1</td>\n",
       "      <td>1</td>\n",
       "      <td>[0.11206413537601694]</td>\n",
       "      <td>True</td>\n",
       "    </tr>\n",
       "  </tbody>\n",
       "</table>\n",
       "</div>"
      ],
      "text/plain": [
       "   X1  X2                 Result  Test\n",
       "0   0   0  [0.13261183719358358]  True\n",
       "1   1   0   [0.9069681521385837]  True\n",
       "2   0   1   [0.8235442216115195]  True\n",
       "3   1   1  [0.11206413537601694]  True"
      ]
     },
     "execution_count": 3,
     "metadata": {},
     "output_type": "execute_result"
    }
   ],
   "source": [
    "xor_back_propagations_1 = Neuron([0.2, -0.4], 0, \"xor gate\")\n",
    "xor_back_propagations_2 = Neuron([0.7, 0.1], 0, \"xor gate\")\n",
    "xor_back_propagations_3 = Neuron([0.6, 0.9], 0, \"xor gate\")\n",
    "xor_back_layer_1 = NeuronLayer([xor_back_propagations_1, xor_back_propagations_2])\n",
    "xor_back_layer_2 = NeuronLayer([xor_back_propagations_3])\n",
    "xor_back_network = NeuronNetwerk([xor_back_layer_1, xor_back_layer_2])\n",
    "\n",
    "xor_back_network.train([[1, 1], [1, 0], [0, 1], [0, 0]], [[0], [1], [1], [0]], 1, 1000)\n",
    "# xor_back_network.train([[1, 1]],[[0]], 1, 1) \n",
    "xor_back_results = pandas.DataFrame(\n",
    "    [\n",
    "        [0, 0, xor_back_network.get_feed_forward_results([0, 0]), test_neuron_network_results(xor_back_network, [0, 0], [0])],\n",
    "        [1, 0, xor_back_network.get_feed_forward_results([1, 0]), test_neuron_network_results(xor_back_network, [1, 0], [1])],\n",
    "        [0, 1, xor_back_network.get_feed_forward_results([0, 1]), test_neuron_network_results(xor_back_network, [0, 1], [1])],\n",
    "        [1, 1, xor_back_network.get_feed_forward_results([1, 1]), test_neuron_network_results(xor_back_network, [1, 1], [0])],\n",
    "    ],\n",
    "    columns = ['X1', 'X2', 'Result', 'Test']\n",
    ")\n",
    "print(xor_back_network)\n",
    "\n",
    "print(f\"Het resultaat van de gate is: {(xor_back_results['Test'] == True).all()}\")\n",
    "xor_back_results"
   ]
  },
  {
   "attachments": {},
   "cell_type": "markdown",
   "metadata": {},
   "source": [
    "## Tests for the half adder\n",
    "First we create the half adder."
   ]
  },
  {
   "cell_type": "code",
   "execution_count": 4,
   "metadata": {},
   "outputs": [],
   "source": [
    "top_neuron = Neuron([0, 0.1], 0)\n",
    "mid_neuron = Neuron([0.2, 0.3], 0)\n",
    "bottom_neuron = Neuron([0.4, 0.5], 0)\n",
    "\n",
    "carry = Neuron([0.6, 0.7, 0.8], 0)\n",
    "Sum = Neuron([0.9, 1, 1.1], 0)\n",
    "\n",
    "haddr_layer_1 = NeuronLayer([top_neuron, mid_neuron, bottom_neuron])\n",
    "haddr_layer_2 = NeuronLayer([Sum, carry])\n",
    "\n",
    "haddr = NeuronNetwerk([haddr_layer_1, haddr_layer_2])"
   ]
  },
  {
   "attachments": {},
   "cell_type": "markdown",
   "metadata": {},
   "source": [
    "Now we can train the half adder and test it."
   ]
  },
  {
   "cell_type": "code",
   "execution_count": 5,
   "metadata": {},
   "outputs": [
    {
     "name": "stdout",
     "output_type": "stream",
     "text": [
      "Het resultaat van de gate is: True\n"
     ]
    },
    {
     "data": {
      "text/html": [
       "<div>\n",
       "<style scoped>\n",
       "    .dataframe tbody tr th:only-of-type {\n",
       "        vertical-align: middle;\n",
       "    }\n",
       "\n",
       "    .dataframe tbody tr th {\n",
       "        vertical-align: top;\n",
       "    }\n",
       "\n",
       "    .dataframe thead th {\n",
       "        text-align: right;\n",
       "    }\n",
       "</style>\n",
       "<table border=\"1\" class=\"dataframe\">\n",
       "  <thead>\n",
       "    <tr style=\"text-align: right;\">\n",
       "      <th></th>\n",
       "      <th>X1</th>\n",
       "      <th>X2</th>\n",
       "      <th>Result</th>\n",
       "      <th>Test</th>\n",
       "    </tr>\n",
       "  </thead>\n",
       "  <tbody>\n",
       "    <tr>\n",
       "      <th>0</th>\n",
       "      <td>1</td>\n",
       "      <td>1</td>\n",
       "      <td>[0.8775157593360844, 0.8401924996385909]</td>\n",
       "      <td>True</td>\n",
       "    </tr>\n",
       "    <tr>\n",
       "      <th>1</th>\n",
       "      <td>1</td>\n",
       "      <td>0</td>\n",
       "      <td>[0.7610245250801883, 0.2459852584406926]</td>\n",
       "      <td>True</td>\n",
       "    </tr>\n",
       "    <tr>\n",
       "      <th>2</th>\n",
       "      <td>0</td>\n",
       "      <td>1</td>\n",
       "      <td>[0.27175649713332833, 0.761239981601955]</td>\n",
       "      <td>True</td>\n",
       "    </tr>\n",
       "    <tr>\n",
       "      <th>3</th>\n",
       "      <td>0</td>\n",
       "      <td>0</td>\n",
       "      <td>[0.13752077172415222, 0.16465397351324024]</td>\n",
       "      <td>True</td>\n",
       "    </tr>\n",
       "  </tbody>\n",
       "</table>\n",
       "</div>"
      ],
      "text/plain": [
       "   X1  X2                                      Result  Test\n",
       "0   1   1    [0.8775157593360844, 0.8401924996385909]  True\n",
       "1   1   0    [0.7610245250801883, 0.2459852584406926]  True\n",
       "2   0   1    [0.27175649713332833, 0.761239981601955]  True\n",
       "3   0   0  [0.13752077172415222, 0.16465397351324024]  True"
      ]
     },
     "execution_count": 5,
     "metadata": {},
     "output_type": "execute_result"
    }
   ],
   "source": [
    "haddr.train([[1, 1], [1, 0], [0, 1], [0, 0]],\n",
    "            [[1, 1], [1, 0], [0, 1], [0, 0]], 0.1, 1000)\n",
    "        \n",
    "\n",
    "haddr_results = pandas.DataFrame(\n",
    "    [\n",
    "        [1, 1, haddr.get_feed_forward_results([1, 1]), test_neuron_network_results(haddr, [1, 1], [1, 1])],\n",
    "        [1, 0, haddr.get_feed_forward_results([1, 0]), test_neuron_network_results(haddr, [1, 0], [1, 0])],\n",
    "        [0, 1, haddr.get_feed_forward_results([0, 1]), test_neuron_network_results(haddr, [0, 1], [0, 1])],\n",
    "        [0, 0, haddr.get_feed_forward_results([0, 0]), test_neuron_network_results(haddr, [0, 0], [0, 0])],\n",
    "    ],\n",
    "    columns = ['X1', 'X2', 'Result', 'Test']\n",
    ")\n",
    "\n",
    "print(f\"Het resultaat van de gate is: {(haddr_results['Test'] == True).all()}\")\n",
    "haddr_results"
   ]
  }
 ],
 "metadata": {
  "kernelspec": {
   "display_name": "base",
   "language": "python",
   "name": "python3"
  },
  "language_info": {
   "codemirror_mode": {
    "name": "ipython",
    "version": 3
   },
   "file_extension": ".py",
   "mimetype": "text/x-python",
   "name": "python",
   "nbconvert_exporter": "python",
   "pygments_lexer": "ipython3",
   "version": "3.9.7"
  },
  "orig_nbformat": 4
 },
 "nbformat": 4,
 "nbformat_minor": 2
}
